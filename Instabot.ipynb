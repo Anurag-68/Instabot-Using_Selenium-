{
 "cells": [
  {
   "cell_type": "code",
   "execution_count": null,
   "id": "e869080e",
   "metadata": {},
   "outputs": [],
   "source": [
    "from selenium import webdriver\n",
    "from selenium.webdriver.common.keys import Keys\n",
    "from selenium.webdriver.support.ui import WebDriverWait\n",
    "from selenium.webdriver.support import expected_conditions as EC\n",
    "from selenium.webdriver.common.by import By\n",
    "from selenium.webdriver.support.select import Select\n",
    "from selenium.common.exceptions import NoSuchElementException\n",
    "from selenium.common.exceptions import StaleElementReferenceException\n",
    "from selenium.common.exceptions import TimeoutException\n",
    "import time \n",
    "from selenium.webdriver.chrome.service import Service"
   ]
  },
  {
   "cell_type": "code",
   "execution_count": null,
   "id": "10fe5d29",
   "metadata": {},
   "outputs": [],
   "source": [
    "executable_path = \"C:/Users/anurag/Downloads/Instabot/chromedriver.exe\"\n",
    "service = Service(executable_path)\n",
    "driver = webdriver.Chrome(service=service)"
   ]
  },
  {
   "cell_type": "code",
   "execution_count": null,
   "id": "9eaa95a1",
   "metadata": {},
   "outputs": [],
   "source": [
    "driver.maximize_window()"
   ]
  },
  {
   "cell_type": "code",
   "execution_count": null,
   "id": "f581db82",
   "metadata": {},
   "outputs": [],
   "source": [
    "driver.get('https://www.instagram.com/')\n",
    "time.sleep(2)"
   ]
  },
  {
   "cell_type": "code",
   "execution_count": null,
   "id": "cbdc0ab8",
   "metadata": {},
   "outputs": [],
   "source": [
    "username = 'Sample_username'\n",
    "password = 'Sample_password'"
   ]
  },
  {
   "cell_type": "code",
   "execution_count": null,
   "id": "640468af",
   "metadata": {},
   "outputs": [],
   "source": [
    "username_box = driver.find_element(By.NAME,'username')\n",
    "username_box.send_keys(username)\n",
    "password_box = driver.find_element(By.NAME, 'password')\n",
    "password_box.send_keys(password)"
   ]
  },
  {
   "cell_type": "code",
   "execution_count": null,
   "id": "51cd637f",
   "metadata": {},
   "outputs": [],
   "source": [
    "driver.find_element(By.XPATH,\"//div/button/div[contains(@class, 'x1nhvcw1')]\").click()"
   ]
  },
  {
   "cell_type": "code",
   "execution_count": null,
   "id": "ae10cfdb",
   "metadata": {},
   "outputs": [],
   "source": [
    "driver.find_element(By.CLASS_NAME, '_ac8f').click()"
   ]
  },
  {
   "cell_type": "code",
   "execution_count": null,
   "id": "2c06d21c",
   "metadata": {},
   "outputs": [],
   "source": [
    "driver.find_element(By.CLASS_NAME, '_a9_1').click()"
   ]
  },
  {
   "cell_type": "code",
   "execution_count": null,
   "id": "118f434f",
   "metadata": {},
   "outputs": [],
   "source": [
    "driver.find_element(By.XPATH, \"//div/span/div/a[contains(@href, '#')]\").click()"
   ]
  },
  {
   "cell_type": "code",
   "execution_count": null,
   "id": "6bf4319d",
   "metadata": {},
   "outputs": [],
   "source": [
    "search_box = driver.find_element(By.XPATH, \"//div/div/input[contains(@class, 'x7xwk5j')]\")\n",
    "search_box.send_keys('food')"
   ]
  },
  {
   "cell_type": "code",
   "execution_count": null,
   "id": "61dbf1c4",
   "metadata": {},
   "outputs": [],
   "source": [
    "for i in driver.find_elements(By.XPATH,\"//a/div/div/div/div/div/div/div/span[contains(@class, 'x18hxmgj')]\"):\n",
    "    print(i.get_attribute('innerHTML'))"
   ]
  },
  {
   "cell_type": "code",
   "execution_count": null,
   "id": "345c8236",
   "metadata": {},
   "outputs": [],
   "source": [
    "driver.find_element(By.CLASS_NAME, '_9-lv').click()"
   ]
  },
  {
   "cell_type": "code",
   "execution_count": null,
   "id": "86cc5bb0",
   "metadata": {},
   "outputs": [],
   "source": [
    "search_box = driver.find_element(By.XPATH, \"//div/div/input[contains(@class, 'x7xwk5j')]\")\n",
    "search_box.send_keys('So Delhi')"
   ]
  },
  {
   "cell_type": "code",
   "execution_count": null,
   "id": "1850ed68",
   "metadata": {},
   "outputs": [],
   "source": [
    "driver.find_element(By.XPATH,\"//a/div[contains(@class,'x1nhvcw1')]\").click()"
   ]
  },
  {
   "cell_type": "code",
   "execution_count": null,
   "id": "16e3993b",
   "metadata": {},
   "outputs": [],
   "source": [
    "if driver.find_element(By.XPATH,\"//div/div/button[contains(@class, '_acan')]/div/div\").get_attribute('innerHTML') == 'Following':\n",
    "    print('Already Following')\n",
    "else:\n",
    "    driver.find_element(By.XPATH,\"//div/div/button[contains(@class, '_acan')]/div/div\").click()"
   ]
  },
  {
   "cell_type": "code",
   "execution_count": null,
   "id": "4d4311db",
   "metadata": {},
   "outputs": [],
   "source": [
    "if driver.find_element(By.XPATH,\"//div/div/button[contains(@class, '_acan')]/div/div\").get_attribute('innerHTML') == 'Following':\n",
    "    driver.find_element(By.XPATH,\"//div/div/button[contains(@class, '_acan')]/div/div\").click()\n",
    "    for i in driver.find_elements(By.XPATH,\"//div/div/div/div/div/div/div[contains(@class, 'x1nhvcw1')]/span/span\"):\n",
    "        if(i.get_attribute('innerHTML')=='Unfollow'):\n",
    "            i.click()\n",
    "            break\n",
    "else:\n",
    "    print('Already unfolllowed')"
   ]
  },
  {
   "cell_type": "code",
   "execution_count": null,
   "id": "dc4ac1fa",
   "metadata": {},
   "outputs": [],
   "source": [
    "driver.find_element(By.XPATH, \"//div/span/div/a[contains(@href, '#')]\").click()\n",
    "search_box = driver.find_element(By.XPATH, \"//div/div/input[contains(@class, 'x7xwk5j')]\")\n",
    "search_box.send_keys('dilsefoodie')"
   ]
  },
  {
   "cell_type": "code",
   "execution_count": null,
   "id": "55a53f24",
   "metadata": {},
   "outputs": [],
   "source": [
    "driver.find_element(By.XPATH,\"//a/div[contains(@class,'x1nhvcw1')]\").click() "
   ]
  }
 ],
 "metadata": {
  "kernelspec": {
   "display_name": "Python 3 (ipykernel)",
   "language": "python",
   "name": "python3"
  },
  "language_info": {
   "codemirror_mode": {
    "name": "ipython",
    "version": 3
   },
   "file_extension": ".py",
   "mimetype": "text/x-python",
   "name": "python",
   "nbconvert_exporter": "python",
   "pygments_lexer": "ipython3",
   "version": "3.11.3"
  }
 },
 "nbformat": 4,
 "nbformat_minor": 5
}
